{
 "cells": [
  {
   "cell_type": "markdown",
   "metadata": {},
   "source": [
    "# Mnist Demo"
   ]
  },
  {
   "cell_type": "markdown",
   "metadata": {},
   "source": [
    "## 一、使用`tensorflow`"
   ]
  },
  {
   "cell_type": "code",
   "execution_count": 1,
   "metadata": {},
   "outputs": [],
   "source": [
    "import tensorflow as tf\n",
    "from tensorflow.keras.losses import SparseCategoricalCrossentropy\n",
    "from tensorflow.keras.optimizers import Adam"
   ]
  },
  {
   "cell_type": "markdown",
   "metadata": {},
   "source": [
    "## 二、加载mnist数据集"
   ]
  },
  {
   "cell_type": "code",
   "execution_count": 2,
   "metadata": {},
   "outputs": [
    {
     "name": "stdout",
     "output_type": "stream",
     "text": [
      "(60000, 28, 28)\n",
      "(60000,)\n"
     ]
    }
   ],
   "source": [
    "mnist = tf.keras.datasets.mnist\n",
    "\n",
    "(x_train, y_train), (x_test, y_test) = mnist.load_data()\n",
    "\n",
    "x_train, x_test = x_train / 255.0, x_test / 255.0\n",
    "\n",
    "print(x_train.shape)\n",
    "print(y_train.shape)"
   ]
  },
  {
   "cell_type": "markdown",
   "metadata": {},
   "source": [
    "## 三、搭建模型"
   ]
  },
  {
   "cell_type": "code",
   "execution_count": 3,
   "metadata": {},
   "outputs": [],
   "source": [
    "model = tf.keras.models.Sequential(\n",
    "    [\n",
    "        tf.keras.layers.Flatten(input_shape=(28, 28)),\n",
    "        tf.keras.layers.Dense(units=128, activation=\"relu\"),\n",
    "        tf.keras.layers.Dense(units=10),\n",
    "    ]\n",
    ")\n",
    "\n",
    "# model = tf.keras.models.Sequential([\n",
    "#   tf.keras.layers.Flatten(input_shape=(28, 28)),\n",
    "#   tf.keras.layers.Dense(128, activation='relu'),\n",
    "#   tf.keras.layers.Dropout(0.2),\n",
    "#   tf.keras.layers.Dense(10)\n",
    "# ])\n",
    "\n",
    "model.compile(\n",
    "    optimizer=Adam(learning_rate=1e-3),\n",
    "    loss=SparseCategoricalCrossentropy(from_logits=True),\n",
    "    metrics=[\"accuracy\"],\n",
    ")"
   ]
  },
  {
   "cell_type": "markdown",
   "metadata": {},
   "source": [
    "## 四、训练模型"
   ]
  },
  {
   "cell_type": "code",
   "execution_count": 4,
   "metadata": {},
   "outputs": [
    {
     "name": "stdout",
     "output_type": "stream",
     "text": [
      "Epoch 1/20\n",
      "   1/1875 [..............................] - ETA: 4:44 - loss: 2.3365 - accuracy: 0.1562"
     ]
    },
    {
     "name": "stderr",
     "output_type": "stream",
     "text": [
      "2022-10-19 20:35:23.682794: W tensorflow/core/platform/profile_utils/cpu_utils.cc:128] Failed to get CPU frequency: 0 Hz\n"
     ]
    },
    {
     "name": "stdout",
     "output_type": "stream",
     "text": [
      "1875/1875 [==============================] - 2s 737us/step - loss: 0.2548 - accuracy: 0.9272\n",
      "Epoch 2/20\n",
      "1875/1875 [==============================] - 1s 720us/step - loss: 0.1121 - accuracy: 0.9669\n",
      "Epoch 3/20\n",
      "1875/1875 [==============================] - 1s 755us/step - loss: 0.0765 - accuracy: 0.9770\n",
      "Epoch 4/20\n",
      "1875/1875 [==============================] - 1s 669us/step - loss: 0.0587 - accuracy: 0.9817\n",
      "Epoch 5/20\n",
      "1875/1875 [==============================] - 1s 630us/step - loss: 0.0443 - accuracy: 0.9861\n",
      "Epoch 6/20\n",
      "1875/1875 [==============================] - 1s 627us/step - loss: 0.0355 - accuracy: 0.9892\n",
      "Epoch 7/20\n",
      "1875/1875 [==============================] - 1s 701us/step - loss: 0.0276 - accuracy: 0.9919\n",
      "Epoch 8/20\n",
      "1875/1875 [==============================] - 1s 640us/step - loss: 0.0229 - accuracy: 0.9927\n",
      "Epoch 9/20\n",
      "1875/1875 [==============================] - 1s 729us/step - loss: 0.0183 - accuracy: 0.9943\n",
      "Epoch 10/20\n",
      "1875/1875 [==============================] - 2s 816us/step - loss: 0.0158 - accuracy: 0.9953\n",
      "Epoch 11/20\n",
      "1875/1875 [==============================] - 1s 751us/step - loss: 0.0126 - accuracy: 0.9962\n",
      "Epoch 12/20\n",
      "1875/1875 [==============================] - 1s 628us/step - loss: 0.0116 - accuracy: 0.9964\n",
      "Epoch 13/20\n",
      "1875/1875 [==============================] - 1s 616us/step - loss: 0.0104 - accuracy: 0.9968\n",
      "Epoch 14/20\n",
      "1875/1875 [==============================] - 1s 633us/step - loss: 0.0095 - accuracy: 0.9970\n",
      "Epoch 15/20\n",
      "1875/1875 [==============================] - 1s 675us/step - loss: 0.0064 - accuracy: 0.9982\n",
      "Epoch 16/20\n",
      "1875/1875 [==============================] - 1s 632us/step - loss: 0.0072 - accuracy: 0.9976\n",
      "Epoch 17/20\n",
      "1875/1875 [==============================] - 1s 625us/step - loss: 0.0076 - accuracy: 0.9976\n",
      "Epoch 18/20\n",
      "1875/1875 [==============================] - 1s 630us/step - loss: 0.0066 - accuracy: 0.9979\n",
      "Epoch 19/20\n",
      "1875/1875 [==============================] - 1s 629us/step - loss: 0.0051 - accuracy: 0.9983\n",
      "Epoch 20/20\n",
      "1875/1875 [==============================] - 1s 637us/step - loss: 0.0049 - accuracy: 0.9985\n"
     ]
    },
    {
     "data": {
      "text/plain": [
       "<keras.callbacks.History at 0x16bd75940>"
      ]
     },
     "execution_count": 4,
     "metadata": {},
     "output_type": "execute_result"
    }
   ],
   "source": [
    "model.fit(x_train, y_train, epochs=20)"
   ]
  },
  {
   "cell_type": "markdown",
   "metadata": {},
   "source": [
    "## 五、评估模型"
   ]
  },
  {
   "cell_type": "code",
   "execution_count": 5,
   "metadata": {},
   "outputs": [
    {
     "name": "stdout",
     "output_type": "stream",
     "text": [
      "313/313 - 0s - loss: 0.1035 - accuracy: 0.9800 - 188ms/epoch - 599us/step\n"
     ]
    },
    {
     "data": {
      "text/plain": [
       "[0.10354939103126526, 0.9800000190734863]"
      ]
     },
     "execution_count": 5,
     "metadata": {},
     "output_type": "execute_result"
    }
   ],
   "source": [
    "model.evaluate(x_test,  y_test, verbose=2)"
   ]
  }
 ],
 "metadata": {
  "kernelspec": {
   "display_name": "Python 3.9.13 ('ml')",
   "language": "python",
   "name": "python3"
  },
  "language_info": {
   "codemirror_mode": {
    "name": "ipython",
    "version": 3
   },
   "file_extension": ".py",
   "mimetype": "text/x-python",
   "name": "python",
   "nbconvert_exporter": "python",
   "pygments_lexer": "ipython3",
   "version": "3.9.13"
  },
  "orig_nbformat": 4,
  "vscode": {
   "interpreter": {
    "hash": "08eac26dc1f80337b7d87e94e7159a5bad95c2e85f47efef91c61359b3afbfe9"
   }
  }
 },
 "nbformat": 4,
 "nbformat_minor": 2
}
