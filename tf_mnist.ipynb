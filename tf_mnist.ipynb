{
 "cells": [
  {
   "cell_type": "markdown",
   "metadata": {},
   "source": [
    "# Mnist Demo"
   ]
  },
  {
   "cell_type": "markdown",
   "metadata": {},
   "source": [
    "## 一、使用`tensorflow`"
   ]
  },
  {
   "cell_type": "code",
   "execution_count": 26,
   "metadata": {},
   "outputs": [],
   "source": [
    "import tensorflow as tf\n",
    "from tensorflow.keras.losses import SparseCategoricalCrossentropy\n",
    "from tensorflow.keras.optimizers import Adam"
   ]
  },
  {
   "cell_type": "markdown",
   "metadata": {},
   "source": [
    "## 二、加载mnist数据集"
   ]
  },
  {
   "cell_type": "code",
   "execution_count": 27,
   "metadata": {},
   "outputs": [
    {
     "name": "stdout",
     "output_type": "stream",
     "text": [
      "(60000, 28, 28)\n",
      "(60000,)\n"
     ]
    }
   ],
   "source": [
    "mnist = tf.keras.datasets.mnist\n",
    "\n",
    "(x_train, y_train), (x_test, y_test) = mnist.load_data()\n",
    "\n",
    "x_train, x_test = x_train / 255.0, x_test / 255.0\n",
    "\n",
    "print(x_train.shape)\n",
    "print(y_train.shape)"
   ]
  },
  {
   "cell_type": "markdown",
   "metadata": {},
   "source": [
    "## 三、搭建模型"
   ]
  },
  {
   "cell_type": "code",
   "execution_count": 28,
   "metadata": {},
   "outputs": [],
   "source": [
    "model = tf.keras.models.Sequential(\n",
    "    [\n",
    "        tf.keras.layers.Flatten(input_shape=(28, 28)),\n",
    "        tf.keras.layers.Dense(units=128, activation=\"relu\"),\n",
    "        tf.keras.layers.Dense(units=10),\n",
    "    ]\n",
    ")\n",
    "\n",
    "# model = tf.keras.models.Sequential([\n",
    "#   tf.keras.layers.Flatten(input_shape=(28, 28)),\n",
    "#   tf.keras.layers.Dense(128, activation='relu'),\n",
    "#   tf.keras.layers.Dropout(0.2),\n",
    "#   tf.keras.layers.Dense(10)\n",
    "# ])\n",
    "\n",
    "model.compile(\n",
    "    optimizer=Adam(learning_rate=1e-3),\n",
    "    loss=SparseCategoricalCrossentropy(from_logits=True),\n",
    "    metrics=[\"accuracy\"],\n",
    ")"
   ]
  },
  {
   "cell_type": "markdown",
   "metadata": {},
   "source": [
    "## 四、训练模型"
   ]
  },
  {
   "cell_type": "code",
   "execution_count": 29,
   "metadata": {},
   "outputs": [
    {
     "name": "stdout",
     "output_type": "stream",
     "text": [
      "Epoch 1/20\n",
      "1875/1875 [==============================] - 2s 761us/step - loss: 0.2580 - accuracy: 0.9267\n",
      "Epoch 2/20\n",
      "1875/1875 [==============================] - 1s 659us/step - loss: 0.1108 - accuracy: 0.9677\n",
      "Epoch 3/20\n",
      "1875/1875 [==============================] - 1s 652us/step - loss: 0.0770 - accuracy: 0.9771\n",
      "Epoch 4/20\n",
      "1875/1875 [==============================] - 1s 652us/step - loss: 0.0575 - accuracy: 0.9828\n",
      "Epoch 5/20\n",
      "1875/1875 [==============================] - 1s 655us/step - loss: 0.0454 - accuracy: 0.9857\n",
      "Epoch 6/20\n",
      "1875/1875 [==============================] - 1s 654us/step - loss: 0.0362 - accuracy: 0.9887\n",
      "Epoch 7/20\n",
      "1875/1875 [==============================] - 1s 663us/step - loss: 0.0287 - accuracy: 0.9912\n",
      "Epoch 8/20\n",
      "1875/1875 [==============================] - 1s 651us/step - loss: 0.0244 - accuracy: 0.9927\n",
      "Epoch 9/20\n",
      "1875/1875 [==============================] - 1s 654us/step - loss: 0.0193 - accuracy: 0.9937\n",
      "Epoch 10/20\n",
      "1875/1875 [==============================] - 1s 671us/step - loss: 0.0160 - accuracy: 0.9948\n",
      "Epoch 11/20\n",
      "1875/1875 [==============================] - 1s 634us/step - loss: 0.0129 - accuracy: 0.9959\n",
      "Epoch 12/20\n",
      "1875/1875 [==============================] - 1s 663us/step - loss: 0.0129 - accuracy: 0.9958\n",
      "Epoch 13/20\n",
      "1875/1875 [==============================] - 1s 689us/step - loss: 0.0102 - accuracy: 0.9970\n",
      "Epoch 14/20\n",
      "1875/1875 [==============================] - 1s 640us/step - loss: 0.0085 - accuracy: 0.9973\n",
      "Epoch 15/20\n",
      "1875/1875 [==============================] - 1s 642us/step - loss: 0.0088 - accuracy: 0.9970\n",
      "Epoch 16/20\n",
      "1875/1875 [==============================] - 1s 643us/step - loss: 0.0066 - accuracy: 0.9980\n",
      "Epoch 17/20\n",
      "1875/1875 [==============================] - 1s 651us/step - loss: 0.0078 - accuracy: 0.9974\n",
      "Epoch 18/20\n",
      "1875/1875 [==============================] - 1s 684us/step - loss: 0.0057 - accuracy: 0.9983\n",
      "Epoch 19/20\n",
      "1875/1875 [==============================] - 1s 676us/step - loss: 0.0062 - accuracy: 0.9980\n",
      "Epoch 20/20\n",
      "1875/1875 [==============================] - 1s 672us/step - loss: 0.0059 - accuracy: 0.9982\n"
     ]
    },
    {
     "data": {
      "text/plain": [
       "<keras.callbacks.History at 0x14cc55400>"
      ]
     },
     "execution_count": 29,
     "metadata": {},
     "output_type": "execute_result"
    }
   ],
   "source": [
    "model.fit(x_train, y_train, epochs=20)"
   ]
  },
  {
   "cell_type": "markdown",
   "metadata": {},
   "source": [
    "## 五、评估模型"
   ]
  },
  {
   "cell_type": "code",
   "execution_count": 30,
   "metadata": {},
   "outputs": [
    {
     "name": "stdout",
     "output_type": "stream",
     "text": [
      "313/313 - 0s - loss: 0.1133 - accuracy: 0.9768 - 183ms/epoch - 583us/step\n"
     ]
    },
    {
     "data": {
      "text/plain": [
       "[0.11326208710670471, 0.9768000245094299]"
      ]
     },
     "execution_count": 30,
     "metadata": {},
     "output_type": "execute_result"
    }
   ],
   "source": [
    "model.evaluate(x_test,  y_test, verbose=2)"
   ]
  }
 ],
 "metadata": {
  "kernelspec": {
   "display_name": "Python 3.9.13 ('ml')",
   "language": "python",
   "name": "python3"
  },
  "language_info": {
   "codemirror_mode": {
    "name": "ipython",
    "version": 3
   },
   "file_extension": ".py",
   "mimetype": "text/x-python",
   "name": "python",
   "nbconvert_exporter": "python",
   "pygments_lexer": "ipython3",
   "version": "3.9.13"
  },
  "orig_nbformat": 4,
  "vscode": {
   "interpreter": {
    "hash": "08eac26dc1f80337b7d87e94e7159a5bad95c2e85f47efef91c61359b3afbfe9"
   }
  }
 },
 "nbformat": 4,
 "nbformat_minor": 2
}
